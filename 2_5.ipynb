{
  "nbformat": 4,
  "nbformat_minor": 0,
  "metadata": {
    "colab": {
      "provenance": []
    },
    "kernelspec": {
      "name": "python3",
      "display_name": "Python 3"
    },
    "language_info": {
      "name": "python"
    }
  },
  "cells": [
    {
      "cell_type": "code",
      "execution_count": 2,
      "metadata": {
        "id": "wYZyELl_znXW"
      },
      "outputs": [],
      "source": [
        "from IPython.display import display, Math, Latex\n",
        "import numpy as np\n",
        "np.seterr(divide='ignore', invalid='ignore')\n",
        "\n",
        "%matplotlib inline\n",
        "from scipy.integrate import odeint\n",
        "import matplotlib\n",
        "import matplotlib.pyplot as plt\n",
        "import math"
      ]
    },
    {
      "cell_type": "code",
      "source": [
        "\n",
        "# defining variables\n",
        "u_e = 2\n",
        "h = 6.626*math.pow(10, -34)\n",
        "m_p= 1.67*(math.pow(10,-27))\n",
        "c= 3*math.pow(10,8)\n",
        "# computing the K\n",
        "k= ((3/math.pi)**(1/3))*((h*c)/8)*((1/(u_e*m_p))**(4/3))\n",
        "k"
      ],
      "metadata": {
        "colab": {
          "base_uri": "https://localhost:8080/"
        },
        "id": "Pxae6i89zuEj",
        "outputId": "eb8f1d6c-6464-438e-bef3-958f52a04df8"
      },
      "execution_count": 32,
      "outputs": [
        {
          "output_type": "execute_result",
          "data": {
            "text/plain": [
              "4900922905.690681"
            ]
          },
          "metadata": {},
          "execution_count": 32
        }
      ]
    },
    {
      "cell_type": "markdown",
      "source": [
        "Solving the constant"
      ],
      "metadata": {
        "id": "yO3AOCGdTfcK"
      }
    },
    {
      "cell_type": "code",
      "source": [
        "pi_1= math.pow(math.pi, 0.5)\n",
        "G= 6.67*math.pow(10, -11)\n",
        "K_1= k/G\n",
        "# computing the constants\n",
        "M_1 = (-4/pi_1)*math.pow(K_1,1.5)\n",
        "M_1"
      ],
      "metadata": {
        "colab": {
          "base_uri": "https://localhost:8080/"
        },
        "id": "f81GzWYBLbJk",
        "outputId": "3c8519dc-6c1d-42c1-c121-851ba2e9bcd3"
      },
      "execution_count": 34,
      "outputs": [
        {
          "output_type": "execute_result",
          "data": {
            "text/plain": [
              "-1.4213895244846304e+30"
            ]
          },
          "metadata": {},
          "execution_count": 34
        }
      ]
    },
    {
      "cell_type": "code",
      "source": [
        " def G(n):\n",
        "    \"\"\"\n",
        "    Solving Lane-Emden Equation\n",
        "    input: n, int\n",
        "    output: zhi_store, teta_store, d in array\n",
        "    \"\"\"\n",
        "    # initialising the variables\n",
        "    zhi_i = 0.00001\n",
        "    d_zhi = 0.001\n",
        "    dteta = 0\n",
        "    teta = 1\n",
        "    teta_store = [] # creating empty tetha list to store values\n",
        "    zhi_store = [] # creating empty zhi list to store values\n",
        "    d =[]\n",
        "    zhi_n = zhi_i # creating a dummy variable \n",
        "    # looping through while loop\n",
        "    while(teta >= 0) and (zhi_n < 20):\n",
        "        zhi_n = d_zhi+ zhi_n \n",
        "        dteta_n = dteta - (((2/zhi_n)*dteta)+teta**n)*d_zhi\n",
        "        teta_n = teta + dteta_n*d_zhi\n",
        "        dteta = dteta_n # updating the dteta\n",
        "        teta  = teta_n # updating the teta\n",
        "        teta_store.append(teta) # appending teta values to list\n",
        "        zhi_store.append(zhi_n) # appending the zhi values to list\n",
        "        d.append(dteta_n)\n",
        "\n",
        "    zhi_store = np.array(zhi_store)\n",
        "    teta_store = np.array(teta_store)\n",
        "    d= np.array(d)    \n",
        "    return (zhi_store, teta_store, d)"
      ],
      "metadata": {
        "id": "SEEE3MCKMnee"
      },
      "execution_count": 35,
      "outputs": []
    },
    {
      "cell_type": "code",
      "source": [
        "data=G(3)"
      ],
      "metadata": {
        "id": "QMnzUbfEO-al"
      },
      "execution_count": 38,
      "outputs": []
    },
    {
      "cell_type": "code",
      "source": [
        "G(3)[1]"
      ],
      "metadata": {
        "colab": {
          "base_uri": "https://localhost:8080/"
        },
        "id": "g0Mmka04PsAY",
        "outputId": "a6162e2c-0bb8-41fb-ce16-9d64f98650af"
      },
      "execution_count": 43,
      "outputs": [
        {
          "output_type": "execute_result",
          "data": {
            "text/plain": [
              "array([ 9.99999000e-01,  9.99997995e-01,  9.99996658e-01, ...,\n",
              "        6.15139975e-05,  1.91374853e-05, -2.32267439e-05])"
            ]
          },
          "metadata": {},
          "execution_count": 43
        }
      ]
    },
    {
      "cell_type": "code",
      "source": [
        "import pandas as pd"
      ],
      "metadata": {
        "id": "heRNfBqVPide"
      },
      "execution_count": 40,
      "outputs": []
    },
    {
      "cell_type": "markdown",
      "source": [
        "Creating the dataframe of  from the tupple"
      ],
      "metadata": {
        "id": "RmuYKzuxUEdk"
      }
    },
    {
      "cell_type": "code",
      "source": [
        "d={'zhi':G(3)[0], 'teta':G(3)[1], 'dteta':G(3)[2]}"
      ],
      "metadata": {
        "id": "GUKJHDJfQv86"
      },
      "execution_count": 50,
      "outputs": []
    },
    {
      "cell_type": "code",
      "source": [
        "df = pd.DataFrame(d)"
      ],
      "metadata": {
        "id": "Trp7jTutO_-T"
      },
      "execution_count": 51,
      "outputs": []
    },
    {
      "cell_type": "code",
      "source": [
        "df"
      ],
      "metadata": {
        "colab": {
          "base_uri": "https://localhost:8080/",
          "height": 419
        },
        "id": "Yu4Y3PoGPhTF",
        "outputId": "a5d08888-01f2-45ab-c379-f5c2ddd52f7f"
      },
      "execution_count": 52,
      "outputs": [
        {
          "output_type": "execute_result",
          "data": {
            "text/plain": [
              "          zhi      teta     dteta\n",
              "0     0.00101  0.999999 -0.001000\n",
              "1     0.00201  0.999998 -0.001005\n",
              "2     0.00301  0.999997 -0.001337\n",
              "3     0.00401  0.999995 -0.001670\n",
              "4     0.00501  0.999993 -0.002003\n",
              "...       ...       ...       ...\n",
              "6895  6.89601  0.000146 -0.042413\n",
              "6896  6.89701  0.000104 -0.042401\n",
              "6897  6.89801  0.000062 -0.042389\n",
              "6898  6.89901  0.000019 -0.042377\n",
              "6899  6.90001 -0.000023 -0.042364\n",
              "\n",
              "[6900 rows x 3 columns]"
            ],
            "text/html": [
              "\n",
              "  <div id=\"df-013edda9-a878-4198-82ad-45d54b24ece7\">\n",
              "    <div class=\"colab-df-container\">\n",
              "      <div>\n",
              "<style scoped>\n",
              "    .dataframe tbody tr th:only-of-type {\n",
              "        vertical-align: middle;\n",
              "    }\n",
              "\n",
              "    .dataframe tbody tr th {\n",
              "        vertical-align: top;\n",
              "    }\n",
              "\n",
              "    .dataframe thead th {\n",
              "        text-align: right;\n",
              "    }\n",
              "</style>\n",
              "<table border=\"1\" class=\"dataframe\">\n",
              "  <thead>\n",
              "    <tr style=\"text-align: right;\">\n",
              "      <th></th>\n",
              "      <th>zhi</th>\n",
              "      <th>teta</th>\n",
              "      <th>dteta</th>\n",
              "    </tr>\n",
              "  </thead>\n",
              "  <tbody>\n",
              "    <tr>\n",
              "      <th>0</th>\n",
              "      <td>0.00101</td>\n",
              "      <td>0.999999</td>\n",
              "      <td>-0.001000</td>\n",
              "    </tr>\n",
              "    <tr>\n",
              "      <th>1</th>\n",
              "      <td>0.00201</td>\n",
              "      <td>0.999998</td>\n",
              "      <td>-0.001005</td>\n",
              "    </tr>\n",
              "    <tr>\n",
              "      <th>2</th>\n",
              "      <td>0.00301</td>\n",
              "      <td>0.999997</td>\n",
              "      <td>-0.001337</td>\n",
              "    </tr>\n",
              "    <tr>\n",
              "      <th>3</th>\n",
              "      <td>0.00401</td>\n",
              "      <td>0.999995</td>\n",
              "      <td>-0.001670</td>\n",
              "    </tr>\n",
              "    <tr>\n",
              "      <th>4</th>\n",
              "      <td>0.00501</td>\n",
              "      <td>0.999993</td>\n",
              "      <td>-0.002003</td>\n",
              "    </tr>\n",
              "    <tr>\n",
              "      <th>...</th>\n",
              "      <td>...</td>\n",
              "      <td>...</td>\n",
              "      <td>...</td>\n",
              "    </tr>\n",
              "    <tr>\n",
              "      <th>6895</th>\n",
              "      <td>6.89601</td>\n",
              "      <td>0.000146</td>\n",
              "      <td>-0.042413</td>\n",
              "    </tr>\n",
              "    <tr>\n",
              "      <th>6896</th>\n",
              "      <td>6.89701</td>\n",
              "      <td>0.000104</td>\n",
              "      <td>-0.042401</td>\n",
              "    </tr>\n",
              "    <tr>\n",
              "      <th>6897</th>\n",
              "      <td>6.89801</td>\n",
              "      <td>0.000062</td>\n",
              "      <td>-0.042389</td>\n",
              "    </tr>\n",
              "    <tr>\n",
              "      <th>6898</th>\n",
              "      <td>6.89901</td>\n",
              "      <td>0.000019</td>\n",
              "      <td>-0.042377</td>\n",
              "    </tr>\n",
              "    <tr>\n",
              "      <th>6899</th>\n",
              "      <td>6.90001</td>\n",
              "      <td>-0.000023</td>\n",
              "      <td>-0.042364</td>\n",
              "    </tr>\n",
              "  </tbody>\n",
              "</table>\n",
              "<p>6900 rows × 3 columns</p>\n",
              "</div>\n",
              "      <button class=\"colab-df-convert\" onclick=\"convertToInteractive('df-013edda9-a878-4198-82ad-45d54b24ece7')\"\n",
              "              title=\"Convert this dataframe to an interactive table.\"\n",
              "              style=\"display:none;\">\n",
              "        \n",
              "  <svg xmlns=\"http://www.w3.org/2000/svg\" height=\"24px\"viewBox=\"0 0 24 24\"\n",
              "       width=\"24px\">\n",
              "    <path d=\"M0 0h24v24H0V0z\" fill=\"none\"/>\n",
              "    <path d=\"M18.56 5.44l.94 2.06.94-2.06 2.06-.94-2.06-.94-.94-2.06-.94 2.06-2.06.94zm-11 1L8.5 8.5l.94-2.06 2.06-.94-2.06-.94L8.5 2.5l-.94 2.06-2.06.94zm10 10l.94 2.06.94-2.06 2.06-.94-2.06-.94-.94-2.06-.94 2.06-2.06.94z\"/><path d=\"M17.41 7.96l-1.37-1.37c-.4-.4-.92-.59-1.43-.59-.52 0-1.04.2-1.43.59L10.3 9.45l-7.72 7.72c-.78.78-.78 2.05 0 2.83L4 21.41c.39.39.9.59 1.41.59.51 0 1.02-.2 1.41-.59l7.78-7.78 2.81-2.81c.8-.78.8-2.07 0-2.86zM5.41 20L4 18.59l7.72-7.72 1.47 1.35L5.41 20z\"/>\n",
              "  </svg>\n",
              "      </button>\n",
              "      \n",
              "  <style>\n",
              "    .colab-df-container {\n",
              "      display:flex;\n",
              "      flex-wrap:wrap;\n",
              "      gap: 12px;\n",
              "    }\n",
              "\n",
              "    .colab-df-convert {\n",
              "      background-color: #E8F0FE;\n",
              "      border: none;\n",
              "      border-radius: 50%;\n",
              "      cursor: pointer;\n",
              "      display: none;\n",
              "      fill: #1967D2;\n",
              "      height: 32px;\n",
              "      padding: 0 0 0 0;\n",
              "      width: 32px;\n",
              "    }\n",
              "\n",
              "    .colab-df-convert:hover {\n",
              "      background-color: #E2EBFA;\n",
              "      box-shadow: 0px 1px 2px rgba(60, 64, 67, 0.3), 0px 1px 3px 1px rgba(60, 64, 67, 0.15);\n",
              "      fill: #174EA6;\n",
              "    }\n",
              "\n",
              "    [theme=dark] .colab-df-convert {\n",
              "      background-color: #3B4455;\n",
              "      fill: #D2E3FC;\n",
              "    }\n",
              "\n",
              "    [theme=dark] .colab-df-convert:hover {\n",
              "      background-color: #434B5C;\n",
              "      box-shadow: 0px 1px 3px 1px rgba(0, 0, 0, 0.15);\n",
              "      filter: drop-shadow(0px 1px 2px rgba(0, 0, 0, 0.3));\n",
              "      fill: #FFFFFF;\n",
              "    }\n",
              "  </style>\n",
              "\n",
              "      <script>\n",
              "        const buttonEl =\n",
              "          document.querySelector('#df-013edda9-a878-4198-82ad-45d54b24ece7 button.colab-df-convert');\n",
              "        buttonEl.style.display =\n",
              "          google.colab.kernel.accessAllowed ? 'block' : 'none';\n",
              "\n",
              "        async function convertToInteractive(key) {\n",
              "          const element = document.querySelector('#df-013edda9-a878-4198-82ad-45d54b24ece7');\n",
              "          const dataTable =\n",
              "            await google.colab.kernel.invokeFunction('convertToInteractive',\n",
              "                                                     [key], {});\n",
              "          if (!dataTable) return;\n",
              "\n",
              "          const docLinkHtml = 'Like what you see? Visit the ' +\n",
              "            '<a target=\"_blank\" href=https://colab.research.google.com/notebooks/data_table.ipynb>data table notebook</a>'\n",
              "            + ' to learn more about interactive tables.';\n",
              "          element.innerHTML = '';\n",
              "          dataTable['output_type'] = 'display_data';\n",
              "          await google.colab.output.renderOutput(dataTable, element);\n",
              "          const docLink = document.createElement('div');\n",
              "          docLink.innerHTML = docLinkHtml;\n",
              "          element.appendChild(docLink);\n",
              "        }\n",
              "      </script>\n",
              "    </div>\n",
              "  </div>\n",
              "  "
            ]
          },
          "metadata": {},
          "execution_count": 52
        }
      ]
    },
    {
      "cell_type": "markdown",
      "source": [
        "Sorting the teta value near to zero"
      ],
      "metadata": {
        "id": "oZ7l3tNJUXLW"
      }
    },
    {
      "cell_type": "code",
      "source": [
        "df.iloc[(df['teta']-0).abs().argsort()[:1]]"
      ],
      "metadata": {
        "colab": {
          "base_uri": "https://localhost:8080/",
          "height": 80
        },
        "id": "K7mTPuTpQ-kY",
        "outputId": "c303f821-f859-4522-b9b7-087b86b3f17f"
      },
      "execution_count": 54,
      "outputs": [
        {
          "output_type": "execute_result",
          "data": {
            "text/plain": [
              "          zhi      teta     dteta\n",
              "6898  6.89901  0.000019 -0.042377"
            ],
            "text/html": [
              "\n",
              "  <div id=\"df-3e4e3db5-17c9-427a-be09-b48c58ef7c29\">\n",
              "    <div class=\"colab-df-container\">\n",
              "      <div>\n",
              "<style scoped>\n",
              "    .dataframe tbody tr th:only-of-type {\n",
              "        vertical-align: middle;\n",
              "    }\n",
              "\n",
              "    .dataframe tbody tr th {\n",
              "        vertical-align: top;\n",
              "    }\n",
              "\n",
              "    .dataframe thead th {\n",
              "        text-align: right;\n",
              "    }\n",
              "</style>\n",
              "<table border=\"1\" class=\"dataframe\">\n",
              "  <thead>\n",
              "    <tr style=\"text-align: right;\">\n",
              "      <th></th>\n",
              "      <th>zhi</th>\n",
              "      <th>teta</th>\n",
              "      <th>dteta</th>\n",
              "    </tr>\n",
              "  </thead>\n",
              "  <tbody>\n",
              "    <tr>\n",
              "      <th>6898</th>\n",
              "      <td>6.89901</td>\n",
              "      <td>0.000019</td>\n",
              "      <td>-0.042377</td>\n",
              "    </tr>\n",
              "  </tbody>\n",
              "</table>\n",
              "</div>\n",
              "      <button class=\"colab-df-convert\" onclick=\"convertToInteractive('df-3e4e3db5-17c9-427a-be09-b48c58ef7c29')\"\n",
              "              title=\"Convert this dataframe to an interactive table.\"\n",
              "              style=\"display:none;\">\n",
              "        \n",
              "  <svg xmlns=\"http://www.w3.org/2000/svg\" height=\"24px\"viewBox=\"0 0 24 24\"\n",
              "       width=\"24px\">\n",
              "    <path d=\"M0 0h24v24H0V0z\" fill=\"none\"/>\n",
              "    <path d=\"M18.56 5.44l.94 2.06.94-2.06 2.06-.94-2.06-.94-.94-2.06-.94 2.06-2.06.94zm-11 1L8.5 8.5l.94-2.06 2.06-.94-2.06-.94L8.5 2.5l-.94 2.06-2.06.94zm10 10l.94 2.06.94-2.06 2.06-.94-2.06-.94-.94-2.06-.94 2.06-2.06.94z\"/><path d=\"M17.41 7.96l-1.37-1.37c-.4-.4-.92-.59-1.43-.59-.52 0-1.04.2-1.43.59L10.3 9.45l-7.72 7.72c-.78.78-.78 2.05 0 2.83L4 21.41c.39.39.9.59 1.41.59.51 0 1.02-.2 1.41-.59l7.78-7.78 2.81-2.81c.8-.78.8-2.07 0-2.86zM5.41 20L4 18.59l7.72-7.72 1.47 1.35L5.41 20z\"/>\n",
              "  </svg>\n",
              "      </button>\n",
              "      \n",
              "  <style>\n",
              "    .colab-df-container {\n",
              "      display:flex;\n",
              "      flex-wrap:wrap;\n",
              "      gap: 12px;\n",
              "    }\n",
              "\n",
              "    .colab-df-convert {\n",
              "      background-color: #E8F0FE;\n",
              "      border: none;\n",
              "      border-radius: 50%;\n",
              "      cursor: pointer;\n",
              "      display: none;\n",
              "      fill: #1967D2;\n",
              "      height: 32px;\n",
              "      padding: 0 0 0 0;\n",
              "      width: 32px;\n",
              "    }\n",
              "\n",
              "    .colab-df-convert:hover {\n",
              "      background-color: #E2EBFA;\n",
              "      box-shadow: 0px 1px 2px rgba(60, 64, 67, 0.3), 0px 1px 3px 1px rgba(60, 64, 67, 0.15);\n",
              "      fill: #174EA6;\n",
              "    }\n",
              "\n",
              "    [theme=dark] .colab-df-convert {\n",
              "      background-color: #3B4455;\n",
              "      fill: #D2E3FC;\n",
              "    }\n",
              "\n",
              "    [theme=dark] .colab-df-convert:hover {\n",
              "      background-color: #434B5C;\n",
              "      box-shadow: 0px 1px 3px 1px rgba(0, 0, 0, 0.15);\n",
              "      filter: drop-shadow(0px 1px 2px rgba(0, 0, 0, 0.3));\n",
              "      fill: #FFFFFF;\n",
              "    }\n",
              "  </style>\n",
              "\n",
              "      <script>\n",
              "        const buttonEl =\n",
              "          document.querySelector('#df-3e4e3db5-17c9-427a-be09-b48c58ef7c29 button.colab-df-convert');\n",
              "        buttonEl.style.display =\n",
              "          google.colab.kernel.accessAllowed ? 'block' : 'none';\n",
              "\n",
              "        async function convertToInteractive(key) {\n",
              "          const element = document.querySelector('#df-3e4e3db5-17c9-427a-be09-b48c58ef7c29');\n",
              "          const dataTable =\n",
              "            await google.colab.kernel.invokeFunction('convertToInteractive',\n",
              "                                                     [key], {});\n",
              "          if (!dataTable) return;\n",
              "\n",
              "          const docLinkHtml = 'Like what you see? Visit the ' +\n",
              "            '<a target=\"_blank\" href=https://colab.research.google.com/notebooks/data_table.ipynb>data table notebook</a>'\n",
              "            + ' to learn more about interactive tables.';\n",
              "          element.innerHTML = '';\n",
              "          dataTable['output_type'] = 'display_data';\n",
              "          await google.colab.output.renderOutput(dataTable, element);\n",
              "          const docLink = document.createElement('div');\n",
              "          docLink.innerHTML = docLinkHtml;\n",
              "          element.appendChild(docLink);\n",
              "        }\n",
              "      </script>\n",
              "    </div>\n",
              "  </div>\n",
              "  "
            ]
          },
          "metadata": {},
          "execution_count": 54
        }
      ]
    },
    {
      "cell_type": "code",
      "source": [
        "M_2= M_1*(6.89901**2)*-0.042377"
      ],
      "metadata": {
        "id": "oXpMJSudSGM6"
      },
      "execution_count": 57,
      "outputs": []
    },
    {
      "cell_type": "code",
      "source": [
        "M_0= 1.989*(10**30)"
      ],
      "metadata": {
        "id": "SjZ_ZnTHSb1T"
      },
      "execution_count": 56,
      "outputs": []
    },
    {
      "cell_type": "markdown",
      "source": [
        "Chandrashekhar mass limit in terms of solar mass"
      ],
      "metadata": {
        "id": "bFI2E3JwUgmW"
      }
    },
    {
      "cell_type": "code",
      "source": [
        "M_2/M_0"
      ],
      "metadata": {
        "colab": {
          "base_uri": "https://localhost:8080/"
        },
        "id": "xftVOrcWSwa-",
        "outputId": "334ab1c5-d248-45e7-9c53-2c5656c05653"
      },
      "execution_count": 58,
      "outputs": [
        {
          "output_type": "execute_result",
          "data": {
            "text/plain": [
              "1.4413919245611722"
            ]
          },
          "metadata": {},
          "execution_count": 58
        }
      ]
    },
    {
      "cell_type": "code",
      "source": [],
      "metadata": {
        "id": "GsdQ-RQIS0-p"
      },
      "execution_count": null,
      "outputs": []
    }
  ]
}